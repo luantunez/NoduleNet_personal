{
  "nbformat": 4,
  "nbformat_minor": 0,
  "metadata": {
    "colab": {
      "name": "Untitled6.ipynb",
      "provenance": [],
      "collapsed_sections": [],
      "mount_file_id": "1h9hh05qnzt585g3mSXoBEl5agw_o9dhu",
      "authorship_tag": "ABX9TyMOkX1YhrbUTLjZDV0Xdq5o",
      "include_colab_link": true
    },
    "kernelspec": {
      "name": "python3",
      "display_name": "Python 3"
    },
    "accelerator": "GPU"
  },
  "cells": [
    {
      "cell_type": "markdown",
      "metadata": {
        "id": "view-in-github",
        "colab_type": "text"
      },
      "source": [
        "<a href=\"https://colab.research.google.com/github/luantunez/NoduleNet_personal/blob/master/Untitled6.ipynb\" target=\"_parent\"><img src=\"https://colab.research.google.com/assets/colab-badge.svg\" alt=\"Open In Colab\"/></a>"
      ]
    },
    {
      "cell_type": "code",
      "metadata": {
        "id": "wu-xkXA-3ftf"
      },
      "source": [
        "!git clone https://github.com/luantunez/NoduleNet_personal.git"
      ],
      "execution_count": null,
      "outputs": []
    },
    {
      "cell_type": "code",
      "metadata": {
        "id": "2dltLjMw3mle"
      },
      "source": [
        "!cd NoduleNet_personal && git checkout uci-cbcl"
      ],
      "execution_count": null,
      "outputs": []
    },
    {
      "cell_type": "code",
      "metadata": {
        "id": "TdP-lVcZ3oUv"
      },
      "source": [
        "!pip install -r NoduleNet_personal/requirements.txt"
      ],
      "execution_count": null,
      "outputs": []
    },
    {
      "cell_type": "code",
      "metadata": {
        "id": "HdACd0iB4NBm",
        "outputId": "c3c33f78-cf75-4369-d7e4-02144bb3864a",
        "colab": {
          "base_uri": "https://localhost:8080/",
          "height": 87
        }
      },
      "source": [
        "!nvcc --version"
      ],
      "execution_count": null,
      "outputs": [
        {
          "output_type": "stream",
          "text": [
            "nvcc: NVIDIA (R) Cuda compiler driver\n",
            "Copyright (c) 2005-2019 NVIDIA Corporation\n",
            "Built on Sun_Jul_28_19:07:16_PDT_2019\n",
            "Cuda compilation tools, release 10.1, V10.1.243\n"
          ],
          "name": "stdout"
        }
      ]
    },
    {
      "cell_type": "code",
      "metadata": {
        "id": "1SYgvkWQiEI3"
      },
      "source": [
        "!pip3 install wheel==0.34.1\n"
      ],
      "execution_count": null,
      "outputs": []
    },
    {
      "cell_type": "code",
      "metadata": {
        "id": "RSgl8DYGjpjA"
      },
      "source": [
        "from os import path\n",
        "from wheel.pep425tags import get_abbr_impl, get_impl_ver, get_abi_tag\n",
        "platform = '{}{}-{}'.format(get_abbr_impl(), get_impl_ver(), get_abi_tag())\n",
        "accelerator = 'cu80' if path.exists('/opt/bin/nvidia-smi') else 'cpu'\n",
        "!pip install -q http://download.pytorch.org/whl/{accelerator}/torch-0.3.0.post4-{platform}-linux_x86_64.whl torchvision\n",
        "import torch"
      ],
      "execution_count": null,
      "outputs": []
    },
    {
      "cell_type": "code",
      "metadata": {
        "id": "KIGj78ffNRla"
      },
      "source": [
        "!pip install torch==1.3+cu92 torchvision==0.6.0+cu92 -f https://download.pytorch.org/whl/torch_stable.html\n"
      ],
      "execution_count": null,
      "outputs": []
    },
    {
      "cell_type": "code",
      "metadata": {
        "id": "dBtA8YbcQdZ0"
      },
      "source": [
        "!pip install torch==1.5.0+cu101 torchvision==0.6.0+cu101 -f https://download.pytorch.org/whl/torch\\_stable.html -q\\"
      ],
      "execution_count": null,
      "outputs": []
    },
    {
      "cell_type": "code",
      "metadata": {
        "id": "rxmTGYgI4PVs",
        "outputId": "ec085e2d-65d1-4283-8f05-4d1d0609da9e",
        "colab": {
          "base_uri": "https://localhost:8080/",
          "height": 1000
        }
      },
      "source": [
        "!python test.py eval"
      ],
      "execution_count": 28,
      "outputs": [
        {
          "output_type": "stream",
          "text": [
            "Warning: C++ module import failed! This should only happen in deployment\n",
            "Warning: C++ module import failed! This should only happen in deployment\n",
            "Warning: C++ module import failed! This should only happen in deployment\n",
            "Warning: C++ module import failed! This should only happen in deployment\n",
            "/usr/local/lib/python3.6/dist-packages/IPython/html.py:14: ShimWarning: The `IPython.html` package has been deprecated since IPython 4.0. You should import from `notebook` instead. `IPython.html.widgets` has moved to `ipywidgets`.\n",
            "  \"`IPython.html.widgets` has moved to `ipywidgets`.\", ShimWarning)\n",
            "[Loading model from model/200.ckpt]\n",
            "out_dir /content/NoduleNet_personal/results/cross_val_test\n",
            "Total # of eval data 3\n",
            "[0] Predicting 1.3.6.1.4.1.14519.5.2.1.6279.6001.105756658031515062000744821260 (302, 328, 390)\n",
            "/content/NoduleNet_personal/net/layer/rcnn_nms.py:43: UserWarning: Implicit dimension choice for softmax has been deprecated. Change the call to include dim=X as an argument.\n",
            "  probs = F.softmax(logits).cpu().data.numpy()\n",
            "/content/NoduleNet_personal/net/layer/rcnn_nms.py:117: UserWarning: Implicit dimension choice for softmax has been deprecated. Change the call to include dim=X as an argument.\n",
            "  probs = F.softmax(logits).cpu().data.numpy()\n",
            "rpn (19, 8)\n",
            "detection (19, 9)\n",
            "ensemble (19, 8)\n",
            "[1] Predicting 1.3.6.1.4.1.14519.5.2.1.6279.6001.105756658031515062000744821260 (302, 328, 390)\n",
            "rpn (19, 8)\n",
            "detection (19, 9)\n",
            "ensemble (19, 8)\n",
            "[2] Predicting 1.3.6.1.4.1.14519.5.2.1.6279.6001.105756658031515062000744821260 (302, 328, 390)\n",
            "rpn (19, 8)\n",
            "detection (19, 9)\n",
            "ensemble (19, 8)\n",
            "/usr/local/lib/python3.6/dist-packages/numpy/core/fromnumeric.py:3118: RuntimeWarning: Mean of empty slice.\n",
            "  out=out, **kwargs)\n",
            "/usr/local/lib/python3.6/dist-packages/numpy/core/_methods.py:85: RuntimeWarning: invalid value encountered in double_scalars\n",
            "  ret = ret.dtype.type(ret / rcount)\n",
            "mAP:  nan\n",
            "/usr/local/lib/python3.6/dist-packages/numpy/core/_methods.py:140: RuntimeWarning: Degrees of freedom <= 0 for slice\n",
            "  keepdims=keepdims)\n",
            "/usr/local/lib/python3.6/dist-packages/numpy/core/_methods.py:110: RuntimeWarning: invalid value encountered in true_divide\n",
            "  arrmean, rcount, out=arrmean, casting='unsafe', subok=False)\n",
            "/usr/local/lib/python3.6/dist-packages/numpy/core/_methods.py:132: RuntimeWarning: invalid value encountered in double_scalars\n",
            "  ret = ret.dtype.type(ret / rcount)\n",
            "mean dice:nan(nan)\n",
            "mean dice (exclude fn):nan(nan)\n",
            "evaluationScript/annotations/LIDC/3_annotation.csv\n",
            "adding nodule annotations: 1.3.6.1.4.1.14519.5.2.1.6279.6001.105756658031515062000744821260\n",
            "adding nodule annotations: 1.3.6.1.4.1.14519.5.2.1.6279.6001.105756658031515062000744821260\n",
            "adding nodule annotations: 1.3.6.1.4.1.14519.5.2.1.6279.6001.105756658031515062000744821260\n",
            "Total number of included nodule annotations: 0\n",
            "Total number of nodule annotations: 0\n",
            "adding candidates: 1.3.6.1.4.1.14519.5.2.1.6279.6001.105756658031515062000744821260\n",
            "adding candidates: 1.3.6.1.4.1.14519.5.2.1.6279.6001.105756658031515062000744821260\n",
            "adding candidates: 1.3.6.1.4.1.14519.5.2.1.6279.6001.105756658031515062000744821260\n",
            "/usr/local/lib/python3.6/dist-packages/sklearn/metrics/_ranking.py:808: UndefinedMetricWarning: No positive samples in y_true, true positive value should be meaningless\n",
            "  UndefinedMetricWarning)\n",
            "FROC at points:  [0.125, 0.25, 0.5, 1, 2, 4, 8]\n",
            "fps:  0.125 , sensitivity:  nan\n",
            "fps:  0.25 , sensitivity:  nan\n",
            "fps:  0.5 , sensitivity:  nan\n",
            "fps:  1 , sensitivity:  nan\n",
            "fps:  2 , sensitivity:  nan\n",
            "fps:  4 , sensitivity:  nan\n",
            "fps:  8 , sensitivity:  nan\n",
            "=============================================\n",
            "average FROC:  nan\n",
            "evaluationScript/annotations/LIDC/3_annotation.csv\n",
            "adding nodule annotations: 1.3.6.1.4.1.14519.5.2.1.6279.6001.105756658031515062000744821260\n",
            "adding nodule annotations: 1.3.6.1.4.1.14519.5.2.1.6279.6001.105756658031515062000744821260\n",
            "adding nodule annotations: 1.3.6.1.4.1.14519.5.2.1.6279.6001.105756658031515062000744821260\n",
            "Total number of included nodule annotations: 0\n",
            "Total number of nodule annotations: 0\n",
            "adding candidates: 1.3.6.1.4.1.14519.5.2.1.6279.6001.105756658031515062000744821260\n",
            "adding candidates: 1.3.6.1.4.1.14519.5.2.1.6279.6001.105756658031515062000744821260\n",
            "adding candidates: 1.3.6.1.4.1.14519.5.2.1.6279.6001.105756658031515062000744821260\n",
            "FROC at points:  [0.125, 0.25, 0.5, 1, 2, 4, 8]\n",
            "fps:  0.125 , sensitivity:  nan\n",
            "fps:  0.25 , sensitivity:  nan\n",
            "fps:  0.5 , sensitivity:  nan\n",
            "fps:  1 , sensitivity:  nan\n",
            "fps:  2 , sensitivity:  nan\n",
            "fps:  4 , sensitivity:  nan\n",
            "fps:  8 , sensitivity:  nan\n",
            "=============================================\n",
            "average FROC:  nan\n",
            "evaluationScript/annotations/LIDC/3_annotation.csv\n",
            "adding nodule annotations: 1.3.6.1.4.1.14519.5.2.1.6279.6001.105756658031515062000744821260\n",
            "adding nodule annotations: 1.3.6.1.4.1.14519.5.2.1.6279.6001.105756658031515062000744821260\n",
            "adding nodule annotations: 1.3.6.1.4.1.14519.5.2.1.6279.6001.105756658031515062000744821260\n",
            "Total number of included nodule annotations: 0\n",
            "Total number of nodule annotations: 0\n",
            "adding candidates: 1.3.6.1.4.1.14519.5.2.1.6279.6001.105756658031515062000744821260\n",
            "adding candidates: 1.3.6.1.4.1.14519.5.2.1.6279.6001.105756658031515062000744821260\n",
            "adding candidates: 1.3.6.1.4.1.14519.5.2.1.6279.6001.105756658031515062000744821260\n",
            "FROC at points:  [0.125, 0.25, 0.5, 1, 2, 4, 8]\n",
            "fps:  0.125 , sensitivity:  nan\n",
            "fps:  0.25 , sensitivity:  nan\n",
            "fps:  0.5 , sensitivity:  nan\n",
            "fps:  1 , sensitivity:  nan\n",
            "fps:  2 , sensitivity:  nan\n",
            "fps:  4 , sensitivity:  nan\n",
            "fps:  8 , sensitivity:  nan\n",
            "=============================================\n",
            "average FROC:  nan\n"
          ],
          "name": "stdout"
        }
      ]
    },
    {
      "cell_type": "code",
      "metadata": {
        "id": "Z702W_mub39u",
        "outputId": "52b88984-38e6-4f0c-e46a-4b4441893d4b",
        "colab": {
          "base_uri": "https://localhost:8080/",
          "height": 87
        }
      },
      "source": [
        "!python utils/LIDC/cvrt_annos_to_npy.py"
      ],
      "execution_count": 3,
      "outputs": [
        {
          "output_type": "stream",
          "text": [
            "100% 1/1 [00:00<00:00, 72.47it/s]\n",
            "100% 1/1 [00:05<00:00,  5.07s/it]\n",
            "{1: 2, 2: 2, 3: 0, 4: 0}\n",
            "6\n"
          ],
          "name": "stdout"
        }
      ]
    },
    {
      "cell_type": "code",
      "metadata": {
        "id": "3UThHlccqjb4"
      },
      "source": [
        "!pip install numpy==1.16.1\n",
        "import numpy as np"
      ],
      "execution_count": null,
      "outputs": []
    },
    {
      "cell_type": "code",
      "metadata": {
        "id": "C6o5W2_-pf6P",
        "outputId": "db940545-3e9c-42bb-dd15-64c3421d5965",
        "colab": {
          "base_uri": "https://localhost:8080/",
          "height": 763
        }
      },
      "source": [
        "!python utils/LIDC/preprocess.py"
      ],
      "execution_count": 18,
      "outputs": [
        {
          "output_type": "stream",
          "text": [
            "nod mask dir masks_test/3\n",
            "save dir  preprocessed_test/3\n",
            "Preprocessing .ipynb_checkpoints...\n",
            "Preprocessing 1.3.6.1.4.1.14519.5.2.1.6279.6001.105756658031515062000744821260...\n",
            "Resampling...\n",
            "number of nodules before: 4, afeter preprocessing: 4\n",
            "Finished 1.3.6.1.4.1.14519.5.2.1.6279.6001.105756658031515062000744821260\n",
            "\n",
            "Finished masks to bboxes 1.3.6.1.4.1.14519.5.2.1.6279.6001.105756658031515062000744821260\n",
            "multiprocessing.pool.RemoteTraceback: \n",
            "\"\"\"\n",
            "Traceback (most recent call last):\n",
            "  File \"/usr/lib/python3.6/multiprocessing/pool.py\", line 119, in worker\n",
            "    result = (True, func(*args, **kwds))\n",
            "  File \"/usr/lib/python3.6/multiprocessing/pool.py\", line 44, in mapstar\n",
            "    return list(map(*args))\n",
            "  File \"utils/LIDC/preprocess.py\", line 659, in generate_label\n",
            "    masks, _ = nrrd.read(os.path.join(save_dir, '%s_mask.nrrd' % (pid)))\n",
            "  File \"/usr/local/lib/python3.6/dist-packages/nrrd/reader.py\", line 506, in read\n",
            "    with open(filename, 'rb') as fh:\n",
            "FileNotFoundError: [Errno 2] No such file or directory: 'preprocessed_test/3/.ipynb_checkpoints_mask.nrrd'\n",
            "\"\"\"\n",
            "\n",
            "The above exception was the direct cause of the following exception:\n",
            "\n",
            "Traceback (most recent call last):\n",
            "  File \"utils/LIDC/preprocess.py\", line 708, in <module>\n",
            "    main()\n",
            "  File \"utils/LIDC/preprocess.py\", line 701, in main\n",
            "    pool.map(generate_label, params_lists)\n",
            "  File \"/usr/lib/python3.6/multiprocessing/pool.py\", line 266, in map\n",
            "    return self._map_async(func, iterable, mapstar, chunksize).get()\n",
            "  File \"/usr/lib/python3.6/multiprocessing/pool.py\", line 644, in get\n",
            "    raise self._value\n",
            "  File \"/usr/lib/python3.6/multiprocessing/pool.py\", line 119, in worker\n",
            "    result = (True, func(*args, **kwds))\n",
            "  File \"/usr/lib/python3.6/multiprocessing/pool.py\", line 44, in mapstar\n",
            "    return list(map(*args))\n",
            "  File \"utils/LIDC/preprocess.py\", line 659, in generate_label\n",
            "    masks, _ = nrrd.read(os.path.join(save_dir, '%s_mask.nrrd' % (pid)))\n",
            "  File \"/usr/local/lib/python3.6/dist-packages/nrrd/reader.py\", line 506, in read\n",
            "    with open(filename, 'rb') as fh:\n",
            "FileNotFoundError: [Errno 2] No such file or directory: 'preprocessed_test/3/.ipynb_checkpoints_mask.nrrd'\n"
          ],
          "name": "stdout"
        }
      ]
    },
    {
      "cell_type": "code",
      "metadata": {
        "id": "1tRLEzUIIu2j"
      },
      "source": [
        "!python build/box/setup.py install"
      ],
      "execution_count": null,
      "outputs": []
    },
    {
      "cell_type": "code",
      "metadata": {
        "id": "PIbhN65KIH1w",
        "outputId": "20815d92-e2d0-4ea4-a394-e25f2bd57c83",
        "colab": {
          "base_uri": "https://localhost:8080/",
          "height": 35
        }
      },
      "source": [
        "%cd NoduleNet_personal"
      ],
      "execution_count": 2,
      "outputs": [
        {
          "output_type": "stream",
          "text": [
            "/content/NoduleNet_personal\n"
          ],
          "name": "stdout"
        }
      ]
    },
    {
      "cell_type": "code",
      "metadata": {
        "id": "C-rZF9jnkojp"
      },
      "source": [
        "import tensorflow as tf\n",
        "tf.test.gpu_device_name()"
      ],
      "execution_count": null,
      "outputs": []
    },
    {
      "cell_type": "code",
      "metadata": {
        "id": "DR-xpnpXO0SI"
      },
      "source": [
        "!pip install torch==1.6.0 torchvision==0.6.0"
      ],
      "execution_count": null,
      "outputs": []
    },
    {
      "cell_type": "code",
      "metadata": {
        "id": "PZ-US5acenC_"
      },
      "source": [
        ""
      ],
      "execution_count": null,
      "outputs": []
    },
    {
      "cell_type": "code",
      "metadata": {
        "id": "6arzvwf7A815"
      },
      "source": [
        "!pip install torchvision"
      ],
      "execution_count": null,
      "outputs": []
    },
    {
      "cell_type": "code",
      "metadata": {
        "id": "PQN7e4oqEJ0C"
      },
      "source": [
        "!print(torch.__config__.show())"
      ],
      "execution_count": null,
      "outputs": []
    },
    {
      "cell_type": "code",
      "metadata": {
        "id": "QIaPoXs1dCmm"
      },
      "source": [
        "!apt-get install build-essential libssl-dev libffi-dev python-dev"
      ],
      "execution_count": null,
      "outputs": []
    },
    {
      "cell_type": "code",
      "metadata": {
        "id": "r2hJ3jkodp1-"
      },
      "source": [
        "!cuda --version"
      ],
      "execution_count": null,
      "outputs": []
    }
  ]
}
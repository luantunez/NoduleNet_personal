{
  "nbformat": 4,
  "nbformat_minor": 0,
  "metadata": {
    "colab": {
      "name": "Untitled3.ipynb",
      "provenance": [],
      "mount_file_id": "1GOP7_zWD63SKW8cXo9rzOGEQxnE7cdEe",
      "authorship_tag": "ABX9TyMDjnI5OR+YE3K3I8ucXvdR",
      "include_colab_link": true
    },
    "kernelspec": {
      "name": "python2",
      "display_name": "Python 2"
    },
    "accelerator": "GPU"
  },
  "cells": [
    {
      "cell_type": "markdown",
      "metadata": {
        "id": "view-in-github",
        "colab_type": "text"
      },
      "source": [
        "<a href=\"https://colab.research.google.com/github/luantunez/NoduleNet_personal/blob/master/Untitled3.ipynb\" target=\"_parent\"><img src=\"https://colab.research.google.com/assets/colab-badge.svg\" alt=\"Open In Colab\"/></a>"
      ]
    },
    {
      "cell_type": "code",
      "metadata": {
        "id": "TVJMZAKkp3MM"
      },
      "source": [
        "!wget https://developer.nvidia.com/compute/cuda/8.0/Prod2/local_installers/cuda-repo-ubuntu1604-8-0-local-ga2_8.0.61-1_amd64-deb\n",
        "!dpkg -i cuda-repo-ubuntu1604-8-0-local-ga2_8.0.61-1_amd64-deb\n",
        "\n",
        "!apt-key add /var/cuda-repo-8-0-local-ga2/7fa2af80.pub\n",
        "!apt-get update\n",
        "!apt-get install cuda=8.0.61-1\n",
        "!apt autoremove"
      ],
      "execution_count": null,
      "outputs": []
    },
    {
      "cell_type": "code",
      "metadata": {
        "id": "XAScVyoroXnc"
      },
      "source": [
        "# same\n",
        "!wget -c https://repo.anaconda.com/miniconda/Miniconda2-4.5.4-Linux-x86_64.sh\n",
        "!chmod +x Miniconda2-4.5.4-Linux-x86_64.sh\n",
        "!bash ./Miniconda2-4.5.4-Linux-x86_64.sh -b -f -p /usr/local\n",
        "# update 1\n",
        "!conda install -q -y --prefix /usr/local python=2.7 ujson\n",
        "# update 2\n",
        "import sys\n",
        "sys.path.append('/usr/local/lib/python2.7/site-packages')\n",
        "# test it\n",
        "import ujson\n",
        "print(ujson.dumps({1:2}))"
      ],
      "execution_count": null,
      "outputs": []
    },
    {
      "cell_type": "code",
      "metadata": {
        "id": "pfBdf0lho3m_"
      },
      "source": [
        "!conda create --name lungnod_luan"
      ],
      "execution_count": null,
      "outputs": []
    },
    {
      "cell_type": "code",
      "metadata": {
        "id": "dUrBPBEPpGJQ"
      },
      "source": [
        "!conda install pytorch=0.1.10 -c soumith"
      ],
      "execution_count": null,
      "outputs": []
    },
    {
      "cell_type": "code",
      "metadata": {
        "id": "RXd8_Ax7qo7e",
        "outputId": "cf3a686e-4b6b-44f8-808c-e5a4d59b04f9",
        "colab": {
          "base_uri": "https://localhost:8080/",
          "height": 693
        }
      },
      "source": [
        "!conda install -c anaconda cudnn==5.1"
      ],
      "execution_count": 13,
      "outputs": [
        {
          "output_type": "stream",
          "text": [
            "Solving environment: - \b\b\\ \b\b| \b\b/ \b\b- \b\b\\ \b\b| \b\b/ \b\b- \b\b\\ \b\b| \b\b/ \b\b- \b\b\\ \b\b| \b\b/ \b\b- \b\b\\ \b\b| \b\b/ \b\b- \b\b\\ \b\b| \b\b/ \b\b- \b\b\\ \b\b| \b\b/ \b\b- \b\b\\ \b\b| \b\b/ \b\b- \b\b\\ \b\b| \b\b/ \b\b- \b\b\\ \b\b| \b\b/ \b\b- \b\b\\ \b\b| \b\b/ \b\b- \b\b\\ \b\b| \b\b/ \b\b- \b\b\\ \b\b| \b\b/ \b\b- \b\b\\ \b\b| \b\b/ \b\b- \b\b\\ \b\b| \b\b/ \b\b- \b\b\\ \b\b| \b\b/ \b\b- \b\b\\ \b\b| \b\b/ \b\b- \b\b\\ \b\b| \b\b/ \b\b- \b\b\\ \b\b| \b\b/ \b\b- \b\b\\ \b\b| \b\b/ \b\b- \b\b\\ \b\b| \b\b/ \b\b- \b\b\\ \b\b| \b\b/ \b\b- \b\b\\ \b\b| \b\b/ \b\b- \b\b\\ \b\b| \b\b/ \b\b- \b\b\\ \b\b| \b\b/ \b\b- \b\b\\ \b\b| \b\b/ \b\b- \b\b\\ \b\b| \b\b/ \b\b- \b\b\\ \b\b| \b\b/ \b\b- \b\b\\ \b\b| \b\b/ \b\b- \b\b\\ \b\b| \b\b/ \b\b- \b\b\\ \b\b| \b\b/ \b\b- \b\b\\ \b\b| \b\b/ \b\b- \b\b\\ \b\b| \b\b/ \b\b- \b\b\\ \b\b| \b\b/ \b\b- \b\b\\ \b\b| \b\b/ \b\b- \b\b\\ \b\b| \b\b/ \b\b- \b\b\\ \b\b| \b\b/ \b\b- \b\b\\ \b\b| \b\b/ \b\b- \b\b\\ \b\b| \b\b/ \b\b- \b\b\\ \b\b| \b\b/ \b\b- \b\b\\ \b\b| \b\b/ \b\b- \b\b\\ \b\b| \b\b/ \b\b- \b\b\\ \b\b| \b\b/ \b\b- \b\b\\ \b\b| \b\b/ \b\b- \b\b\\ \b\b| \b\b/ \b\b- \b\b\\ \b\b| \b\b/ \b\b- \b\b\\ \b\b| \b\b/ \b\b- \b\b\\ \b\b| \b\b/ \b\b- \b\b\\ \b\b| \b\b/ \b\b- \b\b\\ \b\b| \b\b/ \b\b- \b\b\\ \b\b| \b\b/ \b\b- \b\b\\ \b\b| \b\b/ \b\b- \b\b\\ \b\b| \b\b/ \b\b- \b\b\\ \b\b| \b\b/ \b\b- \b\b\\ \b\b| \b\b/ \b\b- \b\b\\ \b\b| \b\b/ \b\b- \b\b\\ \b\b| \b\b/ \b\b- \b\b\\ \b\b| \b\b/ \b\b- \b\b\\ \b\b| \b\b/ \b\b- \b\b\\ \b\b| \b\b/ \b\b- \b\b\\ \b\b| \b\b/ \b\b- \b\b\\ \b\b| \b\b/ \b\b- \b\bdone\n",
            "\n",
            "\n",
            "==> WARNING: A newer version of conda exists. <==\n",
            "  current version: 4.5.4\n",
            "  latest version: 4.9.1\n",
            "\n",
            "Please update conda by running\n",
            "\n",
            "    $ conda update -n base conda\n",
            "\n",
            "\n",
            "\n",
            "## Package Plan ##\n",
            "\n",
            "  environment location: /usr/local\n",
            "\n",
            "  added / updated specs: \n",
            "    - cudnn==5.1\n",
            "\n",
            "\n",
            "The following packages will be downloaded:\n",
            "\n",
            "    package                    |            build\n",
            "    ---------------------------|-----------------\n",
            "    openssl-1.1.1h             |       h7b6447c_0         3.8 MB  anaconda\n",
            "    ca-certificates-2020.10.14 |                0         128 KB  anaconda\n",
            "    certifi-2019.11.28         |           py27_0         156 KB  anaconda\n",
            "    ------------------------------------------------------------\n",
            "                                           Total:         4.1 MB\n",
            "\n",
            "The following packages will be UPDATED:\n",
            "\n",
            "    ca-certificates: 2020.10.14-0      --> 2020.10.14-0      anaconda\n",
            "    certifi:         2019.11.28-py27_0 --> 2019.11.28-py27_0 anaconda\n",
            "    openssl:         1.1.1h-h7b6447c_0 --> 1.1.1h-h7b6447c_0 anaconda\n",
            "\n",
            "Proceed ([y]/n)? n\n",
            "\n"
          ],
          "name": "stdout"
        }
      ]
    },
    {
      "cell_type": "code",
      "metadata": {
        "id": "EwgFsSPqrBTx"
      },
      "source": [
        "!conda install pip"
      ],
      "execution_count": null,
      "outputs": []
    },
    {
      "cell_type": "code",
      "metadata": {
        "id": "0I7Gcabmr_m5"
      },
      "source": [
        "%cd /content/drive/My Drive/Nodule_detector/DSB2017_p2"
      ],
      "execution_count": null,
      "outputs": []
    },
    {
      "cell_type": "code",
      "metadata": {
        "id": "Y6P149JSsCje"
      },
      "source": [
        "!source activate lungnod_luan\n",
        "\n",
        "!pip install -r requirements2.txt"
      ],
      "execution_count": null,
      "outputs": []
    },
    {
      "cell_type": "code",
      "metadata": {
        "id": "vObwwDNMsmYr",
        "outputId": "da34b043-1f88-4aaa-dbff-12f8a44d9e89",
        "colab": {
          "base_uri": "https://localhost:8080/",
          "height": 557
        }
      },
      "source": [
        "!source activate lungnod_luan\n",
        "\n",
        "!python main.py"
      ],
      "execution_count": 5,
      "outputs": [
        {
          "output_type": "stream",
          "text": [
            "/usr/local/lib/python2.7/site-packages/dicom/__init__.py:53: UserWarning: \n",
            "This code is using an older version of pydicom, which is no longer \n",
            "maintained as of Jan 2017.  You can access the new pydicom features and API \n",
            "by installing `pydicom` from PyPI.\n",
            "See 'Transitioning to pydicom 1.x' section at pydicom.readthedocs.org \n",
            "for more information.\n",
            "\n",
            "  warnings.warn(msg)\n",
            "starting preprocessing\n",
            "patient4 done\n",
            "end preprocessing\n",
            "(8L, 1L, 208L, 208L, 208L)\n",
            "[0, 'patient4']\n",
            "elapsed time is 135.75 seconds\n",
            "\n",
            "\n",
            "Traceback (most recent call last):\n",
            "  File \"main.py\", line 106, in <module>\n",
            "    df = pandas.DataFrame({'id':testsplit, 'cancer':predlist})\n",
            "  File \"/usr/local/lib/python2.7/site-packages/pandas/core/frame.py\", line 392, in __init__\n",
            "    mgr = init_dict(data, index, columns, dtype=dtype)\n",
            "  File \"/usr/local/lib/python2.7/site-packages/pandas/core/internals/construction.py\", line 212, in init_dict\n",
            "    return arrays_to_mgr(arrays, data_names, index, columns, dtype=dtype)\n",
            "  File \"/usr/local/lib/python2.7/site-packages/pandas/core/internals/construction.py\", line 56, in arrays_to_mgr\n",
            "    arrays = _homogenize(arrays, index, dtype)\n",
            "  File \"/usr/local/lib/python2.7/site-packages/pandas/core/internals/construction.py\", line 277, in _homogenize\n",
            "    raise_cast_failure=False)\n",
            "  File \"/usr/local/lib/python2.7/site-packages/pandas/core/internals/construction.py\", line 658, in sanitize_array\n",
            "    raise Exception('Data must be 1-dimensional')\n",
            "Exception: Data must be 1-dimensional\n"
          ],
          "name": "stdout"
        }
      ]
    },
    {
      "cell_type": "code",
      "metadata": {
        "id": "U7dU1N1kzf2x"
      },
      "source": [
        ""
      ],
      "execution_count": null,
      "outputs": []
    },
    {
      "cell_type": "code",
      "metadata": {
        "id": "xVwBQ-J5zf7B",
        "outputId": "9c18e913-3e87-4061-d0b0-070c638e28e1",
        "colab": {
          "base_uri": "https://localhost:8080/",
          "height": 609
        }
      },
      "source": [
        "!source activate lungnod_luan\n",
        "\n",
        "!python main.py"
      ],
      "execution_count": 7,
      "outputs": [
        {
          "output_type": "stream",
          "text": [
            "/usr/local/lib/python2.7/site-packages/dicom/__init__.py:53: UserWarning: \n",
            "This code is using an older version of pydicom, which is no longer \n",
            "maintained as of Jan 2017.  You can access the new pydicom features and API \n",
            "by installing `pydicom` from PyPI.\n",
            "See 'Transitioning to pydicom 1.x' section at pydicom.readthedocs.org \n",
            "for more information.\n",
            "\n",
            "  warnings.warn(msg)\n",
            "starting preprocessing\n",
            "patient4 done\n",
            "end preprocessing\n",
            "(8L, 1L, 208L, 208L, 208L)\n",
            "[0, 'patient4']\n",
            "elapsed time is 131.16 seconds\n",
            "\n",
            "\n",
            "[[ 0.12667388]]\n",
            "()\n",
            "['patient4']\n",
            "Traceback (most recent call last):\n",
            "  File \"main.py\", line 109, in <module>\n",
            "    df = pandas.DataFrame({'id':testsplit, 'cancer':predlist})\n",
            "  File \"/usr/local/lib/python2.7/site-packages/pandas/core/frame.py\", line 392, in __init__\n",
            "    mgr = init_dict(data, index, columns, dtype=dtype)\n",
            "  File \"/usr/local/lib/python2.7/site-packages/pandas/core/internals/construction.py\", line 212, in init_dict\n",
            "    return arrays_to_mgr(arrays, data_names, index, columns, dtype=dtype)\n",
            "  File \"/usr/local/lib/python2.7/site-packages/pandas/core/internals/construction.py\", line 56, in arrays_to_mgr\n",
            "    arrays = _homogenize(arrays, index, dtype)\n",
            "  File \"/usr/local/lib/python2.7/site-packages/pandas/core/internals/construction.py\", line 277, in _homogenize\n",
            "    raise_cast_failure=False)\n",
            "  File \"/usr/local/lib/python2.7/site-packages/pandas/core/internals/construction.py\", line 658, in sanitize_array\n",
            "    raise Exception('Data must be 1-dimensional')\n",
            "Exception: Data must be 1-dimensional\n"
          ],
          "name": "stdout"
        }
      ]
    },
    {
      "cell_type": "code",
      "metadata": {
        "id": "z7W0-7m22c7g"
      },
      "source": [
        "import pandas \n",
        "import numpy as np\n",
        "predlist = np.array([1, 2, 3, 4, 5]).tolist()\n",
        "# predlist=[[ 0.12667388]].tolist()\n",
        "# #predlist = predlist.T\n",
        "# testsplit=['patient4'].tolist()\n",
        "\n",
        "df = pandas.DataFrame({'cancer':predlist})"
      ],
      "execution_count": 16,
      "outputs": []
    },
    {
      "cell_type": "code",
      "metadata": {
        "id": "1WoFCKqZ3RlQ",
        "outputId": "59301586-6c7e-40c9-f97c-65cfe63c9dd8",
        "colab": {
          "base_uri": "https://localhost:8080/",
          "height": 176
        }
      },
      "source": [
        "!source activate lungnod_luan\n",
        "\n",
        "# import torch.nn as nn\n",
        "# import torch.cuda\n",
        "#import torchvision\n",
        "import torch\n",
        "# import tensorflow as tf\n",
        "# config = tf.compat.v1.ConfigProto() \n",
        "# config.gpu_options.allow_growth = False\n",
        "#import libcudnn\n",
        "#torch.backends.cudnn.benchmark = True\n",
        "# LD_LIBRARY_PATH = ../usr/local/cuda-8.0\n",
        "#torch.cuda.cudnnCreate()\n",
        "\n",
        "print(torch.version)\n",
        "print(\"PyTorch version: \")\n",
        "print(torch.__version__)\n",
        "# print(\"torchvision version: \")\n",
        "# print(torchvision.__version__)\n",
        "print(\"CUDA Version: \")\n",
        "print(torch.cuda.is_available()) \n",
        "print(torch.version.cuda)\n",
        "print(\"cuDNN version is: \")\n",
        "print(torch.backends.cudnn.version())"
      ],
      "execution_count": 12,
      "outputs": [
        {
          "output_type": "stream",
          "text": [
            "<module 'torch.version' from '/usr/local/lib/python2.7/dist-packages/torch/version.pyc'>\n",
            "PyTorch version: \n",
            "1.4.0\n",
            "CUDA Version: \n",
            "True\n",
            "10.1\n",
            "cuDNN version is: \n",
            "7603\n"
          ],
          "name": "stdout"
        }
      ]
    },
    {
      "cell_type": "code",
      "metadata": {
        "id": "YOiDh9jIxf85"
      },
      "source": [
        "!conda list"
      ],
      "execution_count": null,
      "outputs": []
    }
  ]
}